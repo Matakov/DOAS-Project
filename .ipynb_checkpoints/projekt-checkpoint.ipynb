{
 "cells": [
  {
   "cell_type": "code",
   "execution_count": 1,
   "metadata": {},
   "outputs": [],
   "source": [
    "import numpy as np\n",
    "import matplotlib.pyplot as plt\n",
    "from sklearn import datasets\n",
    "from sklearn.tree import DecisionTreeClassifier\n",
    "from sklearn.ensemble import RandomForestClassifier, AdaBoostClassifier\n",
    "from sklearn.linear_model import SGDClassifier\n",
    "from sklearn.tree import DecisionTreeClassifier\n",
    "from sklearn.svm import SVC\n",
    "from sklearn.model_selection import train_test_split\n",
    "from sklearn.metrics import accuracy_score,f1_score\n",
    "from sklearn.preprocessing import StandardScaler\n",
    "from os import listdir\n",
    "from os.path import isfile, join,isdir\n",
    "import string\n",
    "from PIL import Image\n",
    "#import Tkinter, Tkconstants, tkFileDialog"
   ]
  },
  {
   "cell_type": "code",
   "execution_count": 2,
   "metadata": {},
   "outputs": [
    {
     "data": {
      "image/png": "[encoded data removed]",
      "text/plain": [
       "<matplotlib.figure.Figure at 0x99bc940>"
      ]
     },
     "metadata": {},
     "output_type": "display_data"
    },
    {
     "name": "stdout",
     "output_type": "stream",
     "text": [
      "(8L, 8L)\n",
      "(898L, 64L)\n",
      "(898L,)\n"
     ]
    }
   ],
   "source": [
    "#Load the digits dataset\n",
    "digits = datasets.load_digits()\n",
    "\n",
    "#Display the first digit\n",
    "plt.figure(1, figsize=(3, 3))\n",
    "plt.imshow(digits.images[-1], cmap=plt.cm.gray_r, interpolation='nearest')\n",
    "plt.show()\n",
    "print digits.images[-1].shape\n",
    "n_samples = len(digits.images)\n",
    "data = digits.images.reshape((n_samples, -1))\n",
    "print data[:n_samples / 2].shape\n",
    "print digits.target[:n_samples / 2].shape"
   ]
  },
  {
   "cell_type": "code",
   "execution_count": 3,
   "metadata": {},
   "outputs": [],
   "source": [
    "#path = tkFileDialog.askdirectory(initialdir='.')\n",
    "path = 'C:/Users/Franjo/Documents/FER/Diplomski/Digitalna obrada i analiza slike/Projekt/EnglishFnt/English/Dataset'\n",
    "onlydirs = [f for f in listdir(path) if isdir(join(path, f))]\n",
    "#print onlyfiles\n",
    "numbers = range(0,10)\n",
    "upperLetters = list(string.ascii_uppercase)\n",
    "lowerLetters = list(string.ascii_lowercase)\n",
    "theList = numbers+upperLetters+lowerLetters"
   ]
  },
  {
   "cell_type": "code",
   "execution_count": 4,
   "metadata": {},
   "outputs": [
    {
     "name": "stdout",
     "output_type": "stream",
     "text": [
      "C:/Users/Franjo/Documents/FER/Diplomski/Digitalna obrada i analiza slike/Projekt/EnglishFnt/English/Dataset/Sample001 0\n",
      "C:/Users/Franjo/Documents/FER/Diplomski/Digitalna obrada i analiza slike/Projekt/EnglishFnt/English/Dataset/Sample002 1\n",
      "C:/Users/Franjo/Documents/FER/Diplomski/Digitalna obrada i analiza slike/Projekt/EnglishFnt/English/Dataset/Sample003 2\n",
      "C:/Users/Franjo/Documents/FER/Diplomski/Digitalna obrada i analiza slike/Projekt/EnglishFnt/English/Dataset/Sample004 3\n",
      "C:/Users/Franjo/Documents/FER/Diplomski/Digitalna obrada i analiza slike/Projekt/EnglishFnt/English/Dataset/Sample005 4\n",
      "C:/Users/Franjo/Documents/FER/Diplomski/Digitalna obrada i analiza slike/Projekt/EnglishFnt/English/Dataset/Sample006 5\n",
      "C:/Users/Franjo/Documents/FER/Diplomski/Digitalna obrada i analiza slike/Projekt/EnglishFnt/English/Dataset/Sample007 6\n",
      "C:/Users/Franjo/Documents/FER/Diplomski/Digitalna obrada i analiza slike/Projekt/EnglishFnt/English/Dataset/Sample008 7\n",
      "C:/Users/Franjo/Documents/FER/Diplomski/Digitalna obrada i analiza slike/Projekt/EnglishFnt/English/Dataset/Sample009 8\n",
      "C:/Users/Franjo/Documents/FER/Diplomski/Digitalna obrada i analiza slike/Projekt/EnglishFnt/English/Dataset/Sample010 9\n",
      "C:/Users/Franjo/Documents/FER/Diplomski/Digitalna obrada i analiza slike/Projekt/EnglishFnt/English/Dataset/Sample011 A\n",
      "C:/Users/Franjo/Documents/FER/Diplomski/Digitalna obrada i analiza slike/Projekt/EnglishFnt/English/Dataset/Sample012 B\n",
      "C:/Users/Franjo/Documents/FER/Diplomski/Digitalna obrada i analiza slike/Projekt/EnglishFnt/English/Dataset/Sample013 C\n",
      "C:/Users/Franjo/Documents/FER/Diplomski/Digitalna obrada i analiza slike/Projekt/EnglishFnt/English/Dataset/Sample014 D\n",
      "C:/Users/Franjo/Documents/FER/Diplomski/Digitalna obrada i analiza slike/Projekt/EnglishFnt/English/Dataset/Sample015 E\n",
      "C:/Users/Franjo/Documents/FER/Diplomski/Digitalna obrada i analiza slike/Projekt/EnglishFnt/English/Dataset/Sample016 F\n",
      "C:/Users/Franjo/Documents/FER/Diplomski/Digitalna obrada i analiza slike/Projekt/EnglishFnt/English/Dataset/Sample017 G\n",
      "C:/Users/Franjo/Documents/FER/Diplomski/Digitalna obrada i analiza slike/Projekt/EnglishFnt/English/Dataset/Sample018 H\n",
      "C:/Users/Franjo/Documents/FER/Diplomski/Digitalna obrada i analiza slike/Projekt/EnglishFnt/English/Dataset/Sample019 I\n",
      "C:/Users/Franjo/Documents/FER/Diplomski/Digitalna obrada i analiza slike/Projekt/EnglishFnt/English/Dataset/Sample020 J\n",
      "C:/Users/Franjo/Documents/FER/Diplomski/Digitalna obrada i analiza slike/Projekt/EnglishFnt/English/Dataset/Sample021 K\n",
      "C:/Users/Franjo/Documents/FER/Diplomski/Digitalna obrada i analiza slike/Projekt/EnglishFnt/English/Dataset/Sample022 L\n",
      "C:/Users/Franjo/Documents/FER/Diplomski/Digitalna obrada i analiza slike/Projekt/EnglishFnt/English/Dataset/Sample023 M\n",
      "C:/Users/Franjo/Documents/FER/Diplomski/Digitalna obrada i analiza slike/Projekt/EnglishFnt/English/Dataset/Sample024 N\n",
      "C:/Users/Franjo/Documents/FER/Diplomski/Digitalna obrada i analiza slike/Projekt/EnglishFnt/English/Dataset/Sample025 O\n",
      "C:/Users/Franjo/Documents/FER/Diplomski/Digitalna obrada i analiza slike/Projekt/EnglishFnt/English/Dataset/Sample026 P\n",
      "C:/Users/Franjo/Documents/FER/Diplomski/Digitalna obrada i analiza slike/Projekt/EnglishFnt/English/Dataset/Sample027 Q\n",
      "C:/Users/Franjo/Documents/FER/Diplomski/Digitalna obrada i analiza slike/Projekt/EnglishFnt/English/Dataset/Sample028 R\n",
      "C:/Users/Franjo/Documents/FER/Diplomski/Digitalna obrada i analiza slike/Projekt/EnglishFnt/English/Dataset/Sample029 S\n",
      "C:/Users/Franjo/Documents/FER/Diplomski/Digitalna obrada i analiza slike/Projekt/EnglishFnt/English/Dataset/Sample030 T\n",
      "C:/Users/Franjo/Documents/FER/Diplomski/Digitalna obrada i analiza slike/Projekt/EnglishFnt/English/Dataset/Sample031 U\n",
      "C:/Users/Franjo/Documents/FER/Diplomski/Digitalna obrada i analiza slike/Projekt/EnglishFnt/English/Dataset/Sample032 V\n",
      "C:/Users/Franjo/Documents/FER/Diplomski/Digitalna obrada i analiza slike/Projekt/EnglishFnt/English/Dataset/Sample033 W\n",
      "C:/Users/Franjo/Documents/FER/Diplomski/Digitalna obrada i analiza slike/Projekt/EnglishFnt/English/Dataset/Sample034 X\n",
      "C:/Users/Franjo/Documents/FER/Diplomski/Digitalna obrada i analiza slike/Projekt/EnglishFnt/English/Dataset/Sample035 Y\n",
      "C:/Users/Franjo/Documents/FER/Diplomski/Digitalna obrada i analiza slike/Projekt/EnglishFnt/English/Dataset/Sample036 Z\n",
      "C:/Users/Franjo/Documents/FER/Diplomski/Digitalna obrada i analiza slike/Projekt/EnglishFnt/English/Dataset/Sample037 a\n",
      "C:/Users/Franjo/Documents/FER/Diplomski/Digitalna obrada i analiza slike/Projekt/EnglishFnt/English/Dataset/Sample038 b\n",
      "C:/Users/Franjo/Documents/FER/Diplomski/Digitalna obrada i analiza slike/Projekt/EnglishFnt/English/Dataset/Sample039 c\n",
      "C:/Users/Franjo/Documents/FER/Diplomski/Digitalna obrada i analiza slike/Projekt/EnglishFnt/English/Dataset/Sample040 d\n",
      "C:/Users/Franjo/Documents/FER/Diplomski/Digitalna obrada i analiza slike/Projekt/EnglishFnt/English/Dataset/Sample041 e\n",
      "C:/Users/Franjo/Documents/FER/Diplomski/Digitalna obrada i analiza slike/Projekt/EnglishFnt/English/Dataset/Sample042 f\n",
      "C:/Users/Franjo/Documents/FER/Diplomski/Digitalna obrada i analiza slike/Projekt/EnglishFnt/English/Dataset/Sample043 g\n",
      "C:/Users/Franjo/Documents/FER/Diplomski/Digitalna obrada i analiza slike/Projekt/EnglishFnt/English/Dataset/Sample044 h\n",
      "C:/Users/Franjo/Documents/FER/Diplomski/Digitalna obrada i analiza slike/Projekt/EnglishFnt/English/Dataset/Sample045 i\n",
      "C:/Users/Franjo/Documents/FER/Diplomski/Digitalna obrada i analiza slike/Projekt/EnglishFnt/English/Dataset/Sample046 j\n",
      "C:/Users/Franjo/Documents/FER/Diplomski/Digitalna obrada i analiza slike/Projekt/EnglishFnt/English/Dataset/Sample047 k\n",
      "C:/Users/Franjo/Documents/FER/Diplomski/Digitalna obrada i analiza slike/Projekt/EnglishFnt/English/Dataset/Sample048 l\n",
      "C:/Users/Franjo/Documents/FER/Diplomski/Digitalna obrada i analiza slike/Projekt/EnglishFnt/English/Dataset/Sample049 m\n",
      "C:/Users/Franjo/Documents/FER/Diplomski/Digitalna obrada i analiza slike/Projekt/EnglishFnt/English/Dataset/Sample050 n\n",
      "C:/Users/Franjo/Documents/FER/Diplomski/Digitalna obrada i analiza slike/Projekt/EnglishFnt/English/Dataset/Sample051 o\n",
      "C:/Users/Franjo/Documents/FER/Diplomski/Digitalna obrada i analiza slike/Projekt/EnglishFnt/English/Dataset/Sample052 p\n",
      "C:/Users/Franjo/Documents/FER/Diplomski/Digitalna obrada i analiza slike/Projekt/EnglishFnt/English/Dataset/Sample053 q\n",
      "C:/Users/Franjo/Documents/FER/Diplomski/Digitalna obrada i analiza slike/Projekt/EnglishFnt/English/Dataset/Sample054 r\n",
      "C:/Users/Franjo/Documents/FER/Diplomski/Digitalna obrada i analiza slike/Projekt/EnglishFnt/English/Dataset/Sample055 s\n",
      "C:/Users/Franjo/Documents/FER/Diplomski/Digitalna obrada i analiza slike/Projekt/EnglishFnt/English/Dataset/Sample056 t\n",
      "C:/Users/Franjo/Documents/FER/Diplomski/Digitalna obrada i analiza slike/Projekt/EnglishFnt/English/Dataset/Sample057 u\n",
      "C:/Users/Franjo/Documents/FER/Diplomski/Digitalna obrada i analiza slike/Projekt/EnglishFnt/English/Dataset/Sample058 v\n",
      "C:/Users/Franjo/Documents/FER/Diplomski/Digitalna obrada i analiza slike/Projekt/EnglishFnt/English/Dataset/Sample059 w\n",
      "C:/Users/Franjo/Documents/FER/Diplomski/Digitalna obrada i analiza slike/Projekt/EnglishFnt/English/Dataset/Sample060 x\n",
      "C:/Users/Franjo/Documents/FER/Diplomski/Digitalna obrada i analiza slike/Projekt/EnglishFnt/English/Dataset/Sample061 y\n",
      "C:/Users/Franjo/Documents/FER/Diplomski/Digitalna obrada i analiza slike/Projekt/EnglishFnt/English/Dataset/Sample062 z\n"
     ]
    }
   ],
   "source": [
    "theDataset = np.array([])\n",
    "for subdir,character in zip(onlydirs,theList):\n",
    "    print path+'/'+subdir,character\n",
    "    allInDir=listdir(path+'/'+subdir)\n",
    "    #print np.array(path+'/'+subdir+'/'+allInDir)\n",
    "    #print np.array(allInDir)\n",
    "    for elem in allInDir:\n",
    "        localCharPath = path+'/'+subdir+'/'+elem\n",
    "        im = Image.open(localCharPath)\n",
    "        im = np.asarray(im)\n",
    "        #b = np.hstack((im,np.array(character)))\n",
    "        if len(theDataset)!=0:\n",
    "            theDataset = np.vstack((theDataset,im))\n",
    "        else:\n",
    "            theDataset = im\n",
    "#print theDataset"
   ]
  },
  {
   "cell_type": "code",
   "execution_count": 5,
   "metadata": {},
   "outputs": [
    {
     "name": "stdout",
     "output_type": "stream",
     "text": [
      "(793600L, 128L)\n"
     ]
    }
   ],
   "source": [
    "print theDataset.shape"
   ]
  },
  {
   "cell_type": "code",
   "execution_count": 6,
   "metadata": {},
   "outputs": [
    {
     "data": {
      "text/plain": [
       "<function close>"
      ]
     },
     "execution_count": 6,
     "metadata": {},
     "output_type": "execute_result"
    }
   ],
   "source": [
    "Filename = 'C:\\Users\\Franjo\\Documents\\FER\\Diplomski\\Digitalna obrada i analiza slike\\Projekt\\Dataset'\n",
    "File = open(Filename,'wb')\n",
    "File.write(theDataset)\n",
    "File.close"
   ]
  },
  {
   "cell_type": "code",
   "execution_count": 7,
   "metadata": {},
   "outputs": [
    {
     "name": "stdout",
     "output_type": "stream",
     "text": [
      "6200\n"
     ]
    }
   ],
   "source": [
    "y = []\n",
    "for elem in theList:\n",
    "    y = y + ([elem] * 100)\n",
    "print len(y)"
   ]
  },
  {
   "cell_type": "code",
   "execution_count": 8,
   "metadata": {},
   "outputs": [
    {
     "name": "stdout",
     "output_type": "stream",
     "text": [
      "(6200L, 16384L)\n"
     ]
    }
   ],
   "source": [
    "n=128\n",
    "newDataset = np.array([theDataset[i:i + n] for i in xrange(0, len(theDataset), n)])\n",
    "doableData = newDataset.reshape((len(y), -1))\n",
    "print doableData.shape"
   ]
  },
  {
   "cell_type": "code",
   "execution_count": 9,
   "metadata": {},
   "outputs": [],
   "source": [
    "RFC=RandomForestClassifier()\n",
    "ABC=AdaBoostClassifier(DecisionTreeClassifier(max_depth=1),learning_rate=0.7)\n",
    "SVM=SVC(kernel=\"linear\", C=0.025)\n",
    "#ZA ADABOOST SE KORISTE SLABI KLASIFIKATORI\n",
    "ABC2=AdaBoostClassifier(SGDClassifier(loss='log'),learning_rate=0.7,algorithm='SAMME',n_estimators=20)"
   ]
  },
  {
   "cell_type": "code",
   "execution_count": 10,
   "metadata": {},
   "outputs": [],
   "source": [
    "X_train, X_test, y_train, y_test = train_test_split(doableData, y, test_size=.3)"
   ]
  },
  {
   "cell_type": "code",
   "execution_count": 11,
   "metadata": {},
   "outputs": [
    {
     "data": {
      "text/plain": [
       "RandomForestClassifier(bootstrap=True, class_weight=None, criterion='gini',\n",
       "            max_depth=None, max_features='auto', max_leaf_nodes=None,\n",
       "            min_impurity_split=1e-07, min_samples_leaf=1,\n",
       "            min_samples_split=2, min_weight_fraction_leaf=0.0,\n",
       "            n_estimators=10, n_jobs=1, oob_score=False, random_state=None,\n",
       "            verbose=0, warm_start=False)"
      ]
     },
     "execution_count": 11,
     "metadata": {},
     "output_type": "execute_result"
    }
   ],
   "source": [
    "RFC.fit(X_train,y_train)\n",
    "#print len(X_train)"
   ]
  },
  {
   "cell_type": "code",
   "execution_count": 12,
   "metadata": {},
   "outputs": [
    {
     "name": "stdout",
     "output_type": "stream",
     "text": [
      "0.80752688172\n",
      "0.80752688172\n",
      "0.807838586415\n",
      "0.807902208194\n"
     ]
    }
   ],
   "source": [
    "y_predict = RFC.predict(X_test)\n",
    "print accuracy_score(y_predict,y_test)\n",
    "print f1_score(y_test,y_predict,average='micro')\n",
    "print f1_score(y_test,y_predict,average='macro')\n",
    "print f1_score(y_test,y_predict,average='weighted')"
   ]
  },
  {
   "cell_type": "code",
   "execution_count": 13,
   "metadata": {},
   "outputs": [
    {
     "data": {
      "text/plain": [
       "AdaBoostClassifier(algorithm='SAMME.R',\n",
       "          base_estimator=DecisionTreeClassifier(class_weight=None, criterion='gini', max_depth=1,\n",
       "            max_features=None, max_leaf_nodes=None,\n",
       "            min_impurity_split=1e-07, min_samples_leaf=1,\n",
       "            min_samples_split=2, min_weight_fraction_leaf=0.0,\n",
       "            presort=False, random_state=None, splitter='best'),\n",
       "          learning_rate=0.7, n_estimators=50, random_state=None)"
      ]
     },
     "execution_count": 13,
     "metadata": {},
     "output_type": "execute_result"
    }
   ],
   "source": [
    "ABC.fit(X_train,y_train)"
   ]
  },
  {
   "cell_type": "code",
   "execution_count": 14,
   "metadata": {},
   "outputs": [
    {
     "name": "stdout",
     "output_type": "stream",
     "text": [
      "0.138172043011\n",
      "0.138172043011\n",
      "0.107576399666\n",
      "0.101427382602\n"
     ]
    },
    {
     "name": "stderr",
     "output_type": "stream",
     "text": [
      "C:\\ProgramData\\Anaconda2\\lib\\site-packages\\sklearn\\metrics\\classification.py:1113: UndefinedMetricWarning: F-score is ill-defined and being set to 0.0 in labels with no predicted samples.\n",
      "  'precision', 'predicted', average, warn_for)\n"
     ]
    }
   ],
   "source": [
    "y_predict = ABC.predict(X_test)\n",
    "print accuracy_score(y_predict,y_test)\n",
    "print f1_score(y_test,y_predict,average='micro')\n",
    "print f1_score(y_test,y_predict,average='macro')\n",
    "print f1_score(y_test,y_predict,average='weighted')"
   ]
  },
  {
   "cell_type": "code",
   "execution_count": 15,
   "metadata": {},
   "outputs": [
    {
     "data": {
      "text/plain": [
       "SVC(C=0.025, cache_size=200, class_weight=None, coef0=0.0,\n",
       "  decision_function_shape=None, degree=3, gamma='auto', kernel='linear',\n",
       "  max_iter=-1, probability=False, random_state=None, shrinking=True,\n",
       "  tol=0.001, verbose=False)"
      ]
     },
     "execution_count": 15,
     "metadata": {},
     "output_type": "execute_result"
    }
   ],
   "source": [
    "SVM.fit(X_train,y_train)"
   ]
  },
  {
   "cell_type": "code",
   "execution_count": null,
   "metadata": {},
   "outputs": [
    {
     "name": "stdout",
     "output_type": "stream",
     "text": [
      "0.881182795699\n",
      "0.881182795699\n",
      "0.87885618586\n",
      "0.880995145501\n"
     ]
    }
   ],
   "source": [
    "y_predict = SVM.predict(X_test)\n",
    "print accuracy_score(y_predict,y_test)\n",
    "print f1_score(y_test,y_predict,average='micro')\n",
    "print f1_score(y_test,y_predict,average='macro')\n",
    "print f1_score(y_test,y_predict,average='weighted')"
   ]
  },
  {
   "cell_type": "code",
   "execution_count": null,
   "metadata": {},
   "outputs": [],
   "source": [
    "ABC2.fit(X_train,y_train)"
   ]
  },
  {
   "cell_type": "code",
   "execution_count": null,
   "metadata": {
    "collapsed": true
   },
   "outputs": [],
   "source": [
    "y_predict = ABC2.predict(X_test)\n",
    "print accuracy_score(y_predict,y_test)\n",
    "print f1_score(y_test,y_predict,average='micro')\n",
    "print f1_score(y_test,y_predict,average='macro')\n",
    "print f1_score(y_test,y_predict,average='weighted')"
   ]
  },
  {
   "cell_type": "code",
   "execution_count": null,
   "metadata": {
    "collapsed": true
   },
   "outputs": [],
   "source": []
  }
 ],
 "metadata": {
  "kernelspec": {
   "display_name": "Python 2",
   "language": "python",
   "name": "python2"
  },
  "language_info": {
   "codemirror_mode": {
    "name": "ipython",
    "version": 2
   },
   "file_extension": ".py",
   "mimetype": "text/x-python",
   "name": "python",
   "nbconvert_exporter": "python",
   "pygments_lexer": "ipython2",
   "version": "2.7.11"
  }
 },
 "nbformat": 4,
 "nbformat_minor": 2
}
