{
 "cells": [
  {
   "cell_type": "code",
   "execution_count": null,
   "metadata": {},
   "outputs": [],
   "source": [
    "import numpy as np\n",
    "import matplotlib.pyplot as plt\n",
    "from sklearn import datasets\n",
    "from sklearn.tree import DecisionTreeClassifier\n",
    "from sklearn.ensemble import RandomForestClassifier, AdaBoostClassifier\n",
    "from sklearn.svm import SVC\n",
    "from sklearn.model_selection import train_test_split\n",
    "from sklearn.metrics import accuracy_score\n",
    "from sklearn.preprocessing import StandardScaler\n",
    "from os import listdir\n",
    "from os.path import isfile, join,isdir\n",
    "import string\n",
    "from PIL import Image\n",
    "#import Tkinter, Tkconstants, tkFileDialog"
   ]
  },
  {
   "cell_type": "code",
   "execution_count": null,
   "metadata": {},
   "outputs": [],
   "source": [
    "#Load the digits dataset\n",
    "digits = datasets.load_digits()\n",
    "\n",
    "#Display the first digit\n",
    "plt.figure(1, figsize=(3, 3))\n",
    "plt.imshow(digits.images[-1], cmap=plt.cm.gray_r, interpolation='nearest')\n",
    "plt.show()\n",
    "print digits.images[-1].shape\n",
    "n_samples = len(digits.images)\n",
    "data = digits.images.reshape((n_samples, -1))\n",
    "print data[:n_samples / 2].shape\n",
    "print digits.target[:n_samples / 2].shape"
   ]
  },
  {
   "cell_type": "code",
   "execution_count": 4,
   "metadata": {},
   "outputs": [],
   "source": [
    "#SEARCH FOLDERS FOR DATA AND PREPARE FOR OUTPUT DATA\n",
    "#path = tkFileDialog.askdirectory(initialdir='.')\n",
    "path = 'C:/Users/Franjo/Documents/FER/Diplomski/Digitalna obrada i analiza slike/Projekt/EnglishFnt/English/Fnt'\n",
    "onlydirs = [f for f in listdir(path) if isdir(join(path, f))]\n",
    "#print onlyfiles\n",
    "numbers = range(0,10)\n",
    "upperLetters = list(string.ascii_uppercase)\n",
    "lowerLetters = list(string.ascii_lowercase)\n",
    "theList = numbers+upperLetters+lowerLetters"
   ]
  },
  {
   "cell_type": "code",
   "execution_count": 4,
   "metadata": {},
   "outputs": [
    {
     "data": {
      "text/plain": [
       "\"\\ntheDataset = np.array([])\\nfor subdir,character in zip(onlydirs,theList):\\n    print path+'/'+subdir,character\\n    allInDir=listdir(path+'/'+subdir)\\n    #print np.array(path+'/'+subdir+'/'+allInDir)\\n    #print np.array(allInDir)\\n    for elem in allInDir:\\n        localCharPath = path+'/'+subdir+'/'+elem\\n        im = Image.open(localCharPath)\\n        im = np.asarray(im)\\n        #b = np.hstack((im,np.array(character)))\\n        if len(theDataset)!=0:\\n            theDataset = np.vstack((theDataset,im))\\n        else:\\n            theDataset = im\\nprint theDataset\\n\""
      ]
     },
     "execution_count": 4,
     "metadata": {},
     "output_type": "execute_result"
    }
   ],
   "source": [
    "#IMPORT PICTURES AND GET DATA AS NP ARRAY\n",
    "\"\"\"\n",
    "theDataset = np.array([])\n",
    "for subdir,character in zip(onlydirs,theList):\n",
    "    print path+'/'+subdir,character\n",
    "    allInDir=listdir(path+'/'+subdir)\n",
    "    #print np.array(path+'/'+subdir+'/'+allInDir)\n",
    "    #print np.array(allInDir)\n",
    "    for elem in allInDir:\n",
    "        localCharPath = path+'/'+subdir+'/'+elem\n",
    "        im = Image.open(localCharPath)\n",
    "        im = np.asarray(im)\n",
    "        #b = np.hstack((im,np.array(character)))\n",
    "        if len(theDataset)!=0:\n",
    "            theDataset = np.vstack((theDataset,im))\n",
    "        else:\n",
    "            theDataset = im\n",
    "print theDataset\n",
    "\"\"\""
   ]
  },
  {
   "cell_type": "code",
   "execution_count": 5,
   "metadata": {},
   "outputs": [
    {
     "data": {
      "text/plain": [
       "<function close>"
      ]
     },
     "execution_count": 5,
     "metadata": {},
     "output_type": "execute_result"
    }
   ],
   "source": [
    "#OPEN DATASET\n",
    "Filename = 'C:\\Users\\Franjo\\Documents\\FER\\Diplomski\\Digitalna obrada i analiza slike\\Projekt\\Dataset'\n",
    "File = open(Filename,'rb')\n",
    "theDataset = File.read()\n",
    "File.close"
   ]
  },
  {
   "cell_type": "code",
   "execution_count": null,
   "metadata": {},
   "outputs": [],
   "source": [
    "theDataset2 = theDataset\n",
    "print theDataset"
   ]
  },
  {
   "cell_type": "code",
   "execution_count": 1,
   "metadata": {},
   "outputs": [
    {
     "data": {
      "text/plain": [
       "\"\\nFilename = 'C:\\\\Users\\\\Franjo\\\\Documents\\\\FER\\\\Diplomski\\\\Digitalna obrada i analiza slike\\\\Projekt\\\\Dataset'\\nFile = open(Filename,'wb')\\nFile.write(theDataset)\\nFile.close\\n\""
      ]
     },
     "execution_count": 1,
     "metadata": {},
     "output_type": "execute_result"
    }
   ],
   "source": [
    "#SAVE DATA TO FILE\n",
    "\"\"\"\n",
    "Filename = 'C:\\Users\\Franjo\\Documents\\FER\\Diplomski\\Digitalna obrada i analiza slike\\Projekt\\Dataset'\n",
    "File = open(Filename,'wb')\n",
    "File.write(theDataset)\n",
    "File.close\n",
    "\"\"\""
   ]
  },
  {
   "cell_type": "code",
   "execution_count": 16,
   "metadata": {},
   "outputs": [
    {
     "name": "stdout",
     "output_type": "stream",
     "text": [
      "62992\n"
     ]
    }
   ],
   "source": [
    "#PREPARE OUTPUT DATA\n",
    "y = []\n",
    "for elem in theList:\n",
    "    y = y + ([elem] * 1016)\n",
    "print len(y)"
   ]
  },
  {
   "cell_type": "code",
   "execution_count": 17,
   "metadata": {},
   "outputs": [
    {
     "name": "stdout",
     "output_type": "stream",
     "text": [
      "(62992L, 16384L)\n"
     ]
    }
   ],
   "source": [
    "#PREPARE DATA FOR CLASSIFIER\n",
    "n=128\n",
    "newDataset = np.array([theDataset[i:i + n] for i in xrange(0, len(theDataset), n)])\n",
    "doableData = newDataset.reshape((len(y), -1))\n",
    "print doableData.shape"
   ]
  },
  {
   "cell_type": "code",
   "execution_count": 18,
   "metadata": {},
   "outputs": [],
   "source": [
    "#GET CLASSIFIER\n",
    "RFC=RandomForestClassifier(n_estimators=200)"
   ]
  },
  {
   "cell_type": "code",
   "execution_count": null,
   "metadata": {},
   "outputs": [],
   "source": [
    "#SPLIT DATA TO TRAIN AND TEST\n",
    "X_train, X_test, y_train, y_test = train_test_split(doableData, y, test_size=.4)"
   ]
  },
  {
   "cell_type": "code",
   "execution_count": null,
   "metadata": {},
   "outputs": [],
   "source": [
    "#TRAIN CLASSIFIER\n",
    "RFC.fit(X_train,y_train)\n",
    "#print len(X_train)"
   ]
  },
  {
   "cell_type": "code",
   "execution_count": null,
   "metadata": {},
   "outputs": [],
   "source": [
    "y_predict = RFC.predict(X_test)\n",
    "print accuracy_score(y_predict,y_test)"
   ]
  },
  {
   "cell_type": "code",
   "execution_count": null,
   "metadata": {
    "collapsed": true
   },
   "outputs": [],
   "source": [
    "ABC=AdaBoostClassifier()"
   ]
  },
  {
   "cell_type": "code",
   "execution_count": null,
   "metadata": {},
   "outputs": [],
   "source": [
    "ABC.fit(X_train,y_train)"
   ]
  },
  {
   "cell_type": "code",
   "execution_count": null,
   "metadata": {
    "collapsed": true
   },
   "outputs": [],
   "source": []
  }
 ],
 "metadata": {
  "kernelspec": {
   "display_name": "Python 2",
   "language": "python",
   "name": "python2"
  },
  "language_info": {
   "codemirror_mode": {
    "name": "ipython",
    "version": 2
   },
   "file_extension": ".py",
   "mimetype": "text/x-python",
   "name": "python",
   "nbconvert_exporter": "python",
   "pygments_lexer": "ipython2",
   "version": "2.7.11"
  }
 },
 "nbformat": 4,
 "nbformat_minor": 2
}
