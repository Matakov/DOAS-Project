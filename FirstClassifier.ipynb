{
 "cells": [
  {
   "cell_type": "code",
   "execution_count": 54,
   "metadata": {
    "collapsed": false
   },
   "outputs": [],
   "source": [
    "import numpy as np\n",
    "import matplotlib.pyplot as plt\n",
    "from sklearn import datasets\n",
    "from sklearn.tree import DecisionTreeClassifier\n",
    "from sklearn.ensemble import RandomForestClassifier, AdaBoostClassifier\n",
    "from sklearn.svm import SVC\n",
    "from sklearn.model_selection import train_test_split\n",
    "from sklearn.metrics import accuracy_score\n",
    "from sklearn.metrics import f1_score\n",
    "from sklearn.preprocessing import StandardScaler\n",
    "from os import listdir\n",
    "from os.path import isfile, join,isdir\n",
    "import string\n",
    "from PIL import Image\n",
    "import cv2\n",
    "from sklearn.decomposition import PCA\n",
    "from datetime import datetime\n",
    "from skimage.feature import hog\n",
    "from skimage import data, color, exposure\n",
    "#import Tkinter, Tkconstants, tkFileDialog"
   ]
  },
  {
   "cell_type": "markdown",
   "metadata": {},
   "source": [
    "DENOISING IMAGE\n",
    "\n",
    "http://docs.opencv.org/3.0-beta/modules/photo/doc/denoising.html"
   ]
  },
  {
   "cell_type": "code",
   "execution_count": 3,
   "metadata": {
    "collapsed": true
   },
   "outputs": [],
   "source": [
    "#Funkcija kao ulaz uzima grayscale sliku a kao izlaz daje grayscale slike\n",
    "def denoise(image):\n",
    "    #Parametri funkcije su ulazna slike, h=3 - regulira snagu filtra, velicina prozora,\n",
    "    # te velicina search prozora - Size in pixels of the window that is used to compute weighted average for given pixel. \n",
    "    #Should be odd. Affect performance linearly: greater searchWindowsSize - greater denoising time. \n",
    "    #Recommended value 21 pixels\n",
    "    output=cv2.fastNlMeansDenoising(image,3,7,21)\n",
    "    return output"
   ]
  },
  {
   "cell_type": "markdown",
   "metadata": {},
   "source": [
    "BINARISATION"
   ]
  },
  {
   "cell_type": "code",
   "execution_count": 67,
   "metadata": {
    "collapsed": true
   },
   "outputs": [],
   "source": [
    "def binarize(img):\n",
    "    # convert the image to grayscale and flip the foreground\n",
    "    # and background to ensure foreground is now \"white\" and\n",
    "    # the background is \"black\"\n",
    "    if len(img.shape)>2:\n",
    "        img = cv2.cvtColor(img, cv2.COLOR_BGR2GRAY)\n",
    "    gray = cv2.bitwise_not(img)\n",
    "    #http://docs.opencv.org/3.1.0/d5/daf/tutorial_py_histogram_equalization.html\n",
    "    ##KORISTI SE LOKALNO IZJEDNACANJE HISTOGRAMA\n",
    "    clahe = cv2.createCLAHE(clipLimit=2.0, tileGridSize=(8,8))\n",
    "    cl1 = clahe.apply(gray)\n",
    "\n",
    "    # threshold the image, setting all foreground pixels to\n",
    "    # 255 and all background pixels to 0\n",
    "    thresh = cv2.threshold(cl1, 0, 255,cv2.THRESH_BINARY + cv2.THRESH_OTSU)[1]\n",
    "    thresh = cv2.bitwise_not(thresh)\n",
    "    return cl1,thresh"
   ]
  },
  {
   "cell_type": "code",
   "execution_count": 4,
   "metadata": {
    "collapsed": false
   },
   "outputs": [
    {
     "data": {
      "image/png": "[encoded data removed]",
      "text/plain": [
       "<matplotlib.figure.Figure at 0xa34fd68>"
      ]
     },
     "metadata": {},
     "output_type": "display_data"
    },
    {
     "name": "stdout",
     "output_type": "stream",
     "text": [
      "(8L, 8L)\n",
      "(898L, 64L)\n",
      "(898L,)\n"
     ]
    }
   ],
   "source": [
    "#Load the digits dataset\n",
    "digits = datasets.load_digits()\n",
    "\n",
    "#Display the first digit\n",
    "plt.figure(1, figsize=(3, 3))\n",
    "plt.imshow(digits.images[-1], cmap=plt.cm.gray_r, interpolation='nearest')\n",
    "plt.show()\n",
    "print digits.images[-1].shape\n",
    "n_samples = len(digits.images)\n",
    "data = digits.images.reshape((n_samples, -1))\n",
    "print data[:n_samples / 2].shape\n",
    "print digits.target[:n_samples / 2].shape"
   ]
  },
  {
   "cell_type": "code",
   "execution_count": 101,
   "metadata": {
    "collapsed": false
   },
   "outputs": [
    {
     "name": "stdout",
     "output_type": "stream",
     "text": [
      "['Sample001', 'Sample002', 'Sample003', 'Sample004', 'Sample005', 'Sample006', 'Sample007', 'Sample008', 'Sample009', 'Sample010', 'Sample011', 'Sample012', 'Sample013', 'Sample014', 'Sample015', 'Sample016', 'Sample017', 'Sample018', 'Sample019', 'Sample020', 'Sample021', 'Sample022', 'Sample023', 'Sample024', 'Sample025', 'Sample026', 'Sample027', 'Sample028', 'Sample029', 'Sample030', 'Sample031', 'Sample032', 'Sample033', 'Sample034', 'Sample035', 'Sample036', 'Sample037', 'Sample038', 'Sample039', 'Sample040', 'Sample041', 'Sample042', 'Sample043', 'Sample044', 'Sample045', 'Sample046', 'Sample047', 'Sample048', 'Sample049', 'Sample050', 'Sample051', 'Sample052', 'Sample053', 'Sample054', 'Sample055', 'Sample056', 'Sample057', 'Sample058', 'Sample059', 'Sample060', 'Sample061', 'Sample062']\n"
     ]
    }
   ],
   "source": [
    "#SEARCH FOLDERS FOR DATA AND PREPARE FOR OUTPUT DATA\n",
    "#path = tkFileDialog.askdirectory(initialdir='.')\n",
    "#pathNoText = './Database_text_nonText/nonText'\n",
    "#pathText = './Database_text_nonText/text'\n",
    "pathText = 'C:\\Users\\Franjo\\Documents\\FER\\Diplomski\\Digitalna obrada i analiza slike\\Projekt\\EnglishFnt\\English\\Dataset'\n",
    "onlydirs = [f for f in listdir(pathText) if isdir(join(pathText, f))]\n",
    "print onlydirs\n",
    "numbers = range(0,10)\n",
    "upperLetters = list(string.ascii_uppercase)\n",
    "lowerLetters = list(string.ascii_lowercase)\n",
    "theList = numbers+upperLetters+lowerLetters\n",
    "lengthsOfOutputs={}\n",
    "#UCITAVA SE HOG DESKRIPTOR\n",
    "hog = cv2.HOGDescriptor(\"hog.xml\")"
   ]
  },
  {
   "cell_type": "code",
   "execution_count": 6,
   "metadata": {
    "collapsed": false,
    "scrolled": false
   },
   "outputs": [
    {
     "name": "stdout",
     "output_type": "stream",
     "text": [
      "0\n",
      "1000\n",
      "2000\n",
      "3000\n",
      "4000\n",
      "5000\n",
      "6000\n",
      "7000\n",
      "8000\n",
      "9000\n",
      "10000\n",
      "11000\n",
      "12000\n",
      "13000\n",
      "14000\n",
      "15000\n",
      "16000\n",
      "17000\n",
      "18000\n",
      "19000\n",
      "20000\n",
      "21000\n",
      "22000\n",
      "23000\n",
      "24000\n",
      "25000\n",
      "26000\n",
      "27000\n",
      "28000\n",
      "29000\n",
      "30000\n",
      "31000\n",
      "32000\n",
      "33000\n",
      "34000\n",
      "35000\n",
      "36000\n",
      "37000\n",
      "38000\n",
      "39000\n",
      "40000\n",
      "41000\n",
      "42000\n",
      "43000\n",
      "44000\n",
      "45000\n",
      "46000\n",
      "47000\n",
      "48000\n",
      "49000\n",
      "50000\n",
      "51000\n",
      "52000\n",
      "53000\n",
      "54000\n",
      "55000\n",
      "56000\n",
      "57000\n",
      "58000\n",
      "59000\n",
      "60000\n",
      "61000\n",
      "62000\n",
      "63000\n",
      "64000\n",
      "65000\n",
      "66000\n",
      "67000\n",
      "68000\n",
      "69000\n",
      "70000\n",
      "71000\n",
      "72000\n",
      "73000\n",
      "74000\n",
      "75000\n",
      "2400032\n"
     ]
    }
   ],
   "source": [
    "#IMPORT NONTEXT PICTURES\n",
    "theDatasetNoText = np.array([])\n",
    "allInDir=listdir(pathNoText)\n",
    "#print np.array(path+'/'+subdir+'/'+allInDir)\n",
    "#print np.array(allInDir)\n",
    "lengthsOfOutputs['NoText']=len(allInDir)\n",
    "for it,elem in enumerate(allInDir):\n",
    "    if(it%1000==0):\n",
    "        print it\n",
    "    localCharPath = pathNoText+'/'+elem\n",
    "    im = Image.open(localCharPath)\n",
    "    im = np.asarray(im)\n",
    "    #b = np.hstack((im,np.array(character)))\n",
    "    #_,im = binarize(im)\n",
    "    im = cv2.resize(im, (32, 32))\n",
    "    _,im = binarize(im)\n",
    "    #RACUNAJU SE HOG ZNACAJKE\n",
    "    hist = hog.compute(im)\n",
    "    hist = cv2.transpose(hist)\n",
    "    if len(theDatasetNoText)!=0:\n",
    "        theDatasetNoText = np.vstack((theDatasetNoText,hist))\n",
    "    else:\n",
    "        theDatasetNoText = hist\n",
    "print len(theDatasetNoText)"
   ]
  },
  {
   "cell_type": "code",
   "execution_count": 7,
   "metadata": {
    "collapsed": false
   },
   "outputs": [
    {
     "name": "stdout",
     "output_type": "stream",
     "text": [
      "1\n",
      "[255 255 255 255 255 255 255 255 255 255 255 255 255 255 255 255 255 255\n",
      " 255 255 255 255 255 255 255 255 255 255 255 255 255 255]\n"
     ]
    }
   ],
   "source": [
    "print len(theDatasetNoText[0].shape)\n",
    "print theDatasetNoText[0]\n",
    "#plt.imshow(theDatasetNoText[0],'gray')\n",
    "#plt.show()"
   ]
  },
  {
   "cell_type": "markdown",
   "metadata": {},
   "source": [
    "print len(allInDir)\n",
    "lengthsOfOutputs['NoText']=len(allInDir)\n",
    "Filename = './DatotekaNoText'\n",
    "File = open(Filename,'w')\n",
    "File.write(theDatasetNoText)\n",
    "File.close()"
   ]
  },
  {
   "cell_type": "code",
   "execution_count": 103,
   "metadata": {
    "collapsed": false,
    "scrolled": true
   },
   "outputs": [
    {
     "name": "stdout",
     "output_type": "stream",
     "text": [
      "372\n",
      "(36L,)\n",
      "[ 0.35239539  0.00082877  0.00247999  0.          0.01749793  0.\n",
      "  0.00143731  0.00048032  0.35239539  0.35239539  0.00087983  0.00263279\n",
      "  0.          0.03356135  0.          0.00457199  0.00152788  0.35239539\n",
      "  0.35239539  0.00040664  0.00121682  0.          0.01787341  0.          0.0029519\n",
      "  0.00098647  0.35239539  0.35239539  0.00182227  0.00545291  0.          0.0343099\n",
      "  0.          0.00222615  0.00074394  0.35239539]\n"
     ]
    }
   ],
   "source": [
    "#IMPORT PICTURES AND GET DATA AS NP ARRAY\n",
    "theDatasetText = np.array([])\n",
    "for subdir,character in zip(onlydirs,theList):\n",
    "    #print pathText+'/'+subdir\n",
    "    allInDir=listdir(pathText+'/'+subdir)\n",
    "    #print np.array(pathText+'/'+subdir+'/'+allInDir)\n",
    "    #print np.array(allInDir)\n",
    "    lengthsOfOutputs['Text']=len(allInDir)\n",
    "    for it,elem in enumerate(allInDir):\n",
    "        if(it>5):\n",
    "            #print it\n",
    "            break\n",
    "        localCharPath = pathText+'/'+subdir+'/'+elem\n",
    "        im = Image.open(localCharPath)\n",
    "        im = np.asarray(im)\n",
    "        #b = np.hstack((im,np.array(character)))\n",
    "        im = cv2.resize(im, (32, 32))\n",
    "        _,im = binarize(im)\n",
    "        #RACUNAJU SE HOG ZNACAJKE\n",
    "        hist = hog.compute(im)\n",
    "        hist = cv2.transpose(hist)\n",
    "        #print im.shape\n",
    "        #print prop.shape\n",
    "        if len(theDatasetText)!=0:\n",
    "            theDatasetText = np.vstack((theDatasetText,hist))\n",
    "        else:\n",
    "            theDatasetText = hist\n",
    "print len(theDatasetText)\n",
    "print theDatasetText[0].shape\n",
    "print theDatasetText[0]"
   ]
  },
  {
   "cell_type": "code",
   "execution_count": 9,
   "metadata": {
    "collapsed": false
   },
   "outputs": [
    {
     "name": "stdout",
     "output_type": "stream",
     "text": [
      "4771456\n"
     ]
    }
   ],
   "source": [
    "theDataset = np.vstack((theDatasetNoText,theDatasetText))\n",
    "print len(theDataset)"
   ]
  },
  {
   "cell_type": "code",
   "execution_count": 12,
   "metadata": {
    "collapsed": false
   },
   "outputs": [
    {
     "name": "stdout",
     "output_type": "stream",
     "text": [
      "149108\n"
     ]
    }
   ],
   "source": [
    "#PREPARE OUTPUT DATA\n",
    "y = []\n",
    "\"\"\"\n",
    "for elem in theList:\n",
    "    y = y + ([elem] * 1016)\n",
    "\"\"\"\n",
    "y = [0]* (len(theDatasetNoText))\n",
    "y = y + [1]* (len(theDatasetText))\n",
    "print len(y)"
   ]
  },
  {
   "cell_type": "code",
   "execution_count": 13,
   "metadata": {
    "collapsed": false
   },
   "outputs": [
    {
     "name": "stdout",
     "output_type": "stream",
     "text": [
      "(149108L, 1024L)\n"
     ]
    }
   ],
   "source": [
    "#PREPARE DATA FOR CLASSIFIER\n",
    "#n=32\n",
    "#newDataset = np.array([theDataset[i:i + n] for i in xrange(0, len(theDataset), n)])\n",
    "#doableData = newDataset.reshape((len(y), -1))\n",
    "#theDataset\n",
    "#print doableData.shape"
   ]
  },
  {
   "cell_type": "code",
   "execution_count": 14,
   "metadata": {
    "collapsed": false
   },
   "outputs": [],
   "source": [
    "#SPLIT DATA TO TRAIN AND TEST\n",
    "X_train, X_test, y_train, y_test = train_test_split(doableData, y, test_size=.4)"
   ]
  },
  {
   "cell_type": "code",
   "execution_count": 42,
   "metadata": {
    "collapsed": false
   },
   "outputs": [],
   "source": [
    "#GET CLASSIFIER\n",
    "RFC=RandomForestClassifier(n_estimators=200)"
   ]
  },
  {
   "cell_type": "code",
   "execution_count": 43,
   "metadata": {
    "collapsed": false
   },
   "outputs": [
    {
     "data": {
      "text/plain": [
       "RandomForestClassifier(bootstrap=True, class_weight=None, criterion='gini',\n",
       "            max_depth=None, max_features='auto', max_leaf_nodes=None,\n",
       "            min_impurity_split=1e-07, min_samples_leaf=1,\n",
       "            min_samples_split=2, min_weight_fraction_leaf=0.0,\n",
       "            n_estimators=200, n_jobs=1, oob_score=False, random_state=None,\n",
       "            verbose=0, warm_start=False)"
      ]
     },
     "execution_count": 43,
     "metadata": {},
     "output_type": "execute_result"
    }
   ],
   "source": [
    "#TRAIN CLASSIFIER\n",
    "RFC.fit(doableData,y)\n",
    "#print len(X_train)"
   ]
  },
  {
   "cell_type": "code",
   "execution_count": 44,
   "metadata": {
    "collapsed": false
   },
   "outputs": [
    {
     "name": "stdout",
     "output_type": "stream",
     "text": [
      "1.0\n"
     ]
    }
   ],
   "source": [
    "y_predict = RFC.predict(X_test)\n",
    "print accuracy_score(y_predict,y_test)"
   ]
  },
  {
   "cell_type": "code",
   "execution_count": 45,
   "metadata": {
    "collapsed": false
   },
   "outputs": [
    {
     "name": "stdout",
     "output_type": "stream",
     "text": [
      "1.0\n"
     ]
    }
   ],
   "source": [
    "print f1_score(y_predict,y_test)"
   ]
  },
  {
   "cell_type": "code",
   "execution_count": 48,
   "metadata": {
    "collapsed": true
   },
   "outputs": [],
   "source": [
    "SVM=SVC()"
   ]
  },
  {
   "cell_type": "code",
   "execution_count": 49,
   "metadata": {
    "collapsed": false
   },
   "outputs": [
    {
     "data": {
      "text/plain": [
       "SVC(C=1.0, cache_size=200, class_weight=None, coef0=0.0,\n",
       "  decision_function_shape=None, degree=3, gamma='auto', kernel='rbf',\n",
       "  max_iter=-1, probability=False, random_state=None, shrinking=True,\n",
       "  tol=0.001, verbose=False)"
      ]
     },
     "execution_count": 49,
     "metadata": {},
     "output_type": "execute_result"
    }
   ],
   "source": [
    "SVM.fit(X_train,y_train)"
   ]
  },
  {
   "cell_type": "code",
   "execution_count": 53,
   "metadata": {
    "collapsed": false
   },
   "outputs": [
    {
     "name": "stdout",
     "output_type": "stream",
     "text": [
      "0.603815974784\n",
      "0.338539917143\n"
     ]
    }
   ],
   "source": [
    "y_predict2 = SVM.predict(X_test)\n",
    "print accuracy_score(y_predict2,y_test)\n",
    "print f1_score(y_predict2,y_test)"
   ]
  },
  {
   "cell_type": "code",
   "execution_count": 51,
   "metadata": {
    "collapsed": false
   },
   "outputs": [
    {
     "ename": "NameError",
     "evalue": "name 'datetime' is not defined",
     "output_type": "error",
     "traceback": [
      "\u001b[0;31m---------------------------------------------------------------------------\u001b[0m",
      "\u001b[0;31mNameError\u001b[0m                                 Traceback (most recent call last)",
      "\u001b[0;32m<ipython-input-51-44b2ffce0a2b>\u001b[0m in \u001b[0;36m<module>\u001b[0;34m()\u001b[0m\n\u001b[0;32m----> 1\u001b[0;31m \u001b[1;32mprint\u001b[0m \u001b[0mstr\u001b[0m\u001b[1;33m(\u001b[0m\u001b[0mdatetime\u001b[0m\u001b[1;33m.\u001b[0m\u001b[0mnow\u001b[0m\u001b[1;33m(\u001b[0m\u001b[1;33m)\u001b[0m\u001b[1;33m)\u001b[0m\u001b[1;33m\u001b[0m\u001b[0m\n\u001b[0m",
      "\u001b[0;31mNameError\u001b[0m: name 'datetime' is not defined"
     ]
    }
   ],
   "source": [
    "print str(datetime.now())"
   ]
  },
  {
   "cell_type": "markdown",
   "metadata": {},
   "source": [
    "ZA UCITAVANJE I SPREMANJE NAUCENIH MODELA\n",
    "http://scikit-learn.org/stable/modules/model_persistence.html"
   ]
  },
  {
   "cell_type": "code",
   "execution_count": 52,
   "metadata": {
    "collapsed": false
   },
   "outputs": [
    {
     "data": {
      "text/plain": [
       "['SVM.pkl']"
      ]
     },
     "execution_count": 52,
     "metadata": {},
     "output_type": "execute_result"
    }
   ],
   "source": [
    "from sklearn.externals import joblib\n",
    "joblib.dump(SVC, 'SVM.pkl')\n",
    "#joblib.dump(RFC, './RFC_Full.pkl')"
   ]
  },
  {
   "cell_type": "code",
   "execution_count": 31,
   "metadata": {
    "collapsed": false
   },
   "outputs": [
    {
     "data": {
      "text/plain": [
       "PCA(copy=True, iterated_power='auto', n_components=636, random_state=None,\n",
       "  svd_solver='auto', tol=0.0, whiten=False)"
      ]
     },
     "execution_count": 31,
     "metadata": {},
     "output_type": "execute_result"
    }
   ],
   "source": [
    "pca = PCA(n_components=636)\n",
    "pca.fit(X_train)"
   ]
  },
  {
   "cell_type": "code",
   "execution_count": 30,
   "metadata": {
    "collapsed": false
   },
   "outputs": [
    {
     "name": "stdout",
     "output_type": "stream",
     "text": [
      "636\n"
     ]
    }
   ],
   "source": [
    "print(len(pca.explained_variance_ratio_)) "
   ]
  },
  {
   "cell_type": "markdown",
   "metadata": {
    "collapsed": true
   },
   "source": [
    "# HOG DESKRIPTORI"
   ]
  },
  {
   "cell_type": "code",
   "execution_count": 5,
   "metadata": {
    "collapsed": false
   },
   "outputs": [],
   "source": [
    "hog = cv2.HOGDescriptor()\n",
    "hog.save(\"hog.xml\")"
   ]
  },
  {
   "cell_type": "code",
   "execution_count": 46,
   "metadata": {
    "collapsed": true
   },
   "outputs": [],
   "source": [
    "hog = cv2.HOGDescriptor(\"hog.xml\")"
   ]
  },
  {
   "cell_type": "code",
   "execution_count": 104,
   "metadata": {
    "collapsed": true
   },
   "outputs": [],
   "source": [
    "pathExample = 'C:\\Users\\Franjo\\Documents\\FER\\Diplomski\\Digitalna obrada i analiza slike\\Projekt\\EnglishFnt\\English\\Dataset\\Sample038\\img038-00001.png'\n",
    "imExample = Image.open(pathExample)\n",
    "imExample = np.asarray(imExample)\n",
    "imEx = cv2.resize(imExample,(32,32))"
   ]
  },
  {
   "cell_type": "code",
   "execution_count": 105,
   "metadata": {
    "collapsed": true
   },
   "outputs": [],
   "source": [
    "hist = hog.compute(imEx)"
   ]
  },
  {
   "cell_type": "code",
   "execution_count": 106,
   "metadata": {
    "collapsed": false,
    "scrolled": false
   },
   "outputs": [
    {
     "name": "stdout",
     "output_type": "stream",
     "text": [
      "36\n",
      "[ 3.86342287]\n",
      "(36L, 1L)\n",
      "[[ 0.30272248]\n",
      " [ 0.00119738]\n",
      " [ 0.05647437]\n",
      " [ 0.01346724]\n",
      " [ 0.28472763]\n",
      " [ 0.00278521]\n",
      " [ 0.03291476]\n",
      " [ 0.0156587 ]\n",
      " [ 0.30272248]\n",
      " [ 0.30272248]\n",
      " [ 0.00412616]\n",
      " [ 0.04522439]\n",
      " [ 0.00918267]\n",
      " [ 0.17732792]\n",
      " [ 0.0033604 ]\n",
      " [ 0.02714366]\n",
      " [ 0.00927857]\n",
      " [ 0.30272248]\n",
      " [ 0.30272248]\n",
      " [ 0.00081926]\n",
      " [ 0.04308945]\n",
      " [ 0.01059307]\n",
      " [ 0.30272248]\n",
      " [ 0.00407069]\n",
      " [ 0.05957033]\n",
      " [ 0.01979293]\n",
      " [ 0.30272248]\n",
      " [ 0.30272248]\n",
      " [ 0.00599376]\n",
      " [ 0.03790295]\n",
      " [ 0.00811915]\n",
      " [ 0.20604344]\n",
      " [ 0.00420954]\n",
      " [ 0.04383917]\n",
      " [ 0.01200769]\n",
      " [ 0.30272248]]\n",
      "[[ 0.30272248  0.00119738  0.05647437  0.01346724  0.28472763  0.00278521\n",
      "   0.03291476  0.0156587   0.30272248  0.30272248  0.00412616  0.04522439\n",
      "   0.00918267  0.17732792  0.0033604   0.02714366  0.00927857  0.30272248\n",
      "   0.30272248  0.00081926  0.04308945  0.01059307  0.30272248  0.00407069\n",
      "   0.05957033  0.01979293  0.30272248  0.30272248  0.00599376  0.03790295\n",
      "   0.00811915  0.20604344  0.00420954  0.04383917  0.01200769  0.30272248]]\n"
     ]
    }
   ],
   "source": [
    "print len(hist)\n",
    "print sum(hist)\n",
    "print hist.shape\n",
    "print hist\n",
    "print cv2.transpose(hist)"
   ]
  },
  {
   "cell_type": "code",
   "execution_count": 55,
   "metadata": {
    "collapsed": false
   },
   "outputs": [],
   "source": [
    "fd, hog_image = hog(imExample, orientations=8, pixels_per_cell=(8, 8),cells_per_block=(1, 1), visualise=True)"
   ]
  },
  {
   "cell_type": "code",
   "execution_count": 56,
   "metadata": {
    "collapsed": false
   },
   "outputs": [
    {
     "name": "stdout",
     "output_type": "stream",
     "text": [
      "2048\n",
      "[[ True  True  True ...,  True  True  True]]\n",
      "67.9999945015\n"
     ]
    }
   ],
   "source": [
    "print len(fd)\n",
    "print fd == cv2.resize(hog_image,(len(fd),1))\n",
    "print sum(fd)"
   ]
  },
  {
   "cell_type": "code",
   "execution_count": 57,
   "metadata": {
    "collapsed": false
   },
   "outputs": [
    {
     "data": {
      "image/png": "[encoded data removed]",
      "text/plain": [
       "<matplotlib.figure.Figure at 0xbbf0898>"
      ]
     },
     "metadata": {},
     "output_type": "display_data"
    }
   ],
   "source": [
    "fig, (ax1, ax2) = plt.subplots(1, 2, figsize=(8, 4), sharex=True, sharey=True)\n",
    "\n",
    "ax1.axis('off')\n",
    "ax1.imshow(imExample, cmap=plt.cm.gray)\n",
    "ax1.set_title('Input image')\n",
    "ax1.set_adjustable('box-forced')\n",
    "\n",
    "# Rescale histogram for better display\n",
    "hog_image_rescaled = exposure.rescale_intensity(hog_image, in_range=(0, 0.02))\n",
    "\n",
    "ax2.axis('off')\n",
    "ax2.imshow(hog_image_rescaled, cmap=plt.cm.gray)\n",
    "ax2.set_title('Histogram of Oriented Gradients')\n",
    "ax1.set_adjustable('box-forced')\n",
    "plt.show()"
   ]
  },
  {
   "cell_type": "code",
   "execution_count": 68,
   "metadata": {
    "collapsed": true
   },
   "outputs": [],
   "source": [
    "imExample=cv2.bitwise_not(imExample)"
   ]
  },
  {
   "cell_type": "code",
   "execution_count": 70,
   "metadata": {
    "collapsed": false
   },
   "outputs": [
    {
     "data": {
      "image/png": "[encoded data removed]",
      "text/plain": [
       "<matplotlib.figure.Figure at 0xc7db978>"
      ]
     },
     "metadata": {},
     "output_type": "display_data"
    }
   ],
   "source": [
    "plt.imshow(imExample,'gray')\n",
    "plt.show()"
   ]
  },
  {
   "cell_type": "code",
   "execution_count": 71,
   "metadata": {
    "collapsed": false
   },
   "outputs": [
    {
     "data": {
      "image/png": "[encoded data removed]",
      "text/plain": [
       "<matplotlib.figure.Figure at 0xcc6f6d8>"
      ]
     },
     "metadata": {},
     "output_type": "display_data"
    }
   ],
   "source": [
    "fd, hog_image = hog(imExample, orientations=8, pixels_per_cell=(8, 8),cells_per_block=(1, 1), visualise=True)\n",
    "fig, (ax1, ax2) = plt.subplots(1, 2, figsize=(8, 4), sharex=True, sharey=True)\n",
    "\n",
    "ax1.axis('off')\n",
    "ax1.imshow(imExample, cmap=plt.cm.gray)\n",
    "ax1.set_title('Input image')\n",
    "ax1.set_adjustable('box-forced')\n",
    "\n",
    "# Rescale histogram for better display\n",
    "hog_image_rescaled = exposure.rescale_intensity(hog_image, in_range=(0, 0.02))\n",
    "\n",
    "ax2.axis('off')\n",
    "ax2.imshow(hog_image_rescaled, cmap=plt.cm.gray)\n",
    "ax2.set_title('Histogram of Oriented Gradients')\n",
    "ax1.set_adjustable('box-forced')\n",
    "plt.show()"
   ]
  },
  {
   "cell_type": "code",
   "execution_count": 96,
   "metadata": {
    "collapsed": false
   },
   "outputs": [],
   "source": [
    "im2=imExample\n",
    "im2=im2[~np.all(im2 == 0, axis=1)]\n",
    "#im2[~(im2==0).all(1)]\n",
    "im2=cv2.transpose(im2)\n",
    "im2=im2[~np.all(im2 == 0, axis=1)]\n",
    "im2=cv2.transpose(im2)"
   ]
  },
  {
   "cell_type": "code",
   "execution_count": 98,
   "metadata": {
    "collapsed": false
   },
   "outputs": [
    {
     "data": {
      "image/png": "[encoded data removed]",
      "text/plain": [
       "<matplotlib.figure.Figure at 0xc5aa278>"
      ]
     },
     "metadata": {},
     "output_type": "display_data"
    }
   ],
   "source": [
    "plt.imshow(im2,'gray')\n",
    "plt.show()"
   ]
  },
  {
   "cell_type": "code",
   "execution_count": 99,
   "metadata": {
    "collapsed": false
   },
   "outputs": [
    {
     "data": {
      "image/png": "[encoded data removed]",
      "text/plain": [
       "<matplotlib.figure.Figure at 0xc5a4f60>"
      ]
     },
     "metadata": {},
     "output_type": "display_data"
    }
   ],
   "source": [
    "fd, hog_image = hog(im2, orientations=8, pixels_per_cell=(8, 8),cells_per_block=(1, 1), visualise=True)\n",
    "fig, (ax1, ax2) = plt.subplots(1, 2, figsize=(8, 4), sharex=True, sharey=True)\n",
    "\n",
    "ax1.axis('off')\n",
    "ax1.imshow(im2, cmap=plt.cm.gray)\n",
    "ax1.set_title('Input image')\n",
    "ax1.set_adjustable('box-forced')\n",
    "\n",
    "# Rescale histogram for better display\n",
    "hog_image_rescaled = exposure.rescale_intensity(hog_image, in_range=(0, 0.02))\n",
    "\n",
    "ax2.axis('off')\n",
    "ax2.imshow(hog_image_rescaled, cmap=plt.cm.gray)\n",
    "ax2.set_title('Histogram of Oriented Gradients')\n",
    "ax1.set_adjustable('box-forced')\n",
    "plt.show()"
   ]
  },
  {
   "cell_type": "code",
   "execution_count": null,
   "metadata": {
    "collapsed": true
   },
   "outputs": [],
   "source": []
  }
 ],
 "metadata": {
  "kernelspec": {
   "display_name": "Python 2",
   "language": "python",
   "name": "python2"
  },
  "language_info": {
   "codemirror_mode": {
    "name": "ipython",
    "version": 2
   },
   "file_extension": ".py",
   "mimetype": "text/x-python",
   "name": "python",
   "nbconvert_exporter": "python",
   "pygments_lexer": "ipython2",
   "version": "2.7.13"
  }
 },
 "nbformat": 4,
 "nbformat_minor": 2
}
