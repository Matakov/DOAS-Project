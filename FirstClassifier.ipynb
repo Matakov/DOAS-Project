{
 "cells": [
  {
   "cell_type": "code",
   "execution_count": 38,
   "metadata": {
    "collapsed": false
   },
   "outputs": [],
   "source": [
    "import numpy as np\n",
    "import matplotlib.pyplot as plt\n",
    "from sklearn import datasets\n",
    "from sklearn.tree import DecisionTreeClassifier\n",
    "from sklearn.ensemble import RandomForestClassifier, AdaBoostClassifier\n",
    "from sklearn.svm import SVC\n",
    "from sklearn.model_selection import train_test_split\n",
    "from sklearn.metrics import accuracy_score\n",
    "from sklearn.metrics import f1_score\n",
    "from sklearn.preprocessing import StandardScaler\n",
    "from os import listdir\n",
    "from os.path import isfile, join,isdir\n",
    "import string\n",
    "from PIL import Image\n",
    "import cv2\n",
    "from sklearn.decomposition import PCA\n",
    "from datetime import datetime\n",
    "#import Tkinter, Tkconstants, tkFileDialog"
   ]
  },
  {
   "cell_type": "markdown",
   "metadata": {},
   "source": [
    "DENOISING IMAGE\n",
    "\n",
    "http://docs.opencv.org/3.0-beta/modules/photo/doc/denoising.html"
   ]
  },
  {
   "cell_type": "code",
   "execution_count": 39,
   "metadata": {
    "collapsed": true
   },
   "outputs": [],
   "source": [
    "#Funkcija kao ulaz uzima grayscale sliku a kao izlaz daje grayscale slike\n",
    "def denoise(image):\n",
    "    #Parametri funkcije su ulazna slike, h=3 - regulira snagu filtra, velicina prozora,\n",
    "    # te velicina search prozora - Size in pixels of the window that is used to compute weighted average for given pixel. \n",
    "    #Should be odd. Affect performance linearly: greater searchWindowsSize - greater denoising time. \n",
    "    #Recommended value 21 pixels\n",
    "    output=cv2.fastNlMeansDenoising(image,3,7,21)\n",
    "    return output"
   ]
  },
  {
   "cell_type": "markdown",
   "metadata": {},
   "source": [
    "BINARISATION"
   ]
  },
  {
   "cell_type": "code",
   "execution_count": 40,
   "metadata": {
    "collapsed": true
   },
   "outputs": [],
   "source": [
    "def binarize(img):\n",
    "    # convert the image to grayscale and flip the foreground\n",
    "    # and background to ensure foreground is now \"white\" and\n",
    "    # the background is \"black\"\n",
    "    gray = cv2.cvtColor(img, cv2.COLOR_BGR2GRAY)\n",
    "    gray = cv2.bitwise_not(gray)\n",
    "    #http://docs.opencv.org/3.1.0/d5/daf/tutorial_py_histogram_equalization.html\n",
    "    ##KORISTI SE LOKALNO IZJEDNACANJE HISTOGRAMA\n",
    "    clahe = cv2.createCLAHE(clipLimit=2.0, tileGridSize=(8,8))\n",
    "    cl1 = clahe.apply(gray)\n",
    "\n",
    "    # threshold the image, setting all foreground pixels to\n",
    "    # 255 and all background pixels to 0\n",
    "    thresh = cv2.threshold(cl1, 0, 255,cv2.THRESH_BINARY + cv2.THRESH_OTSU)[1]\n",
    "    thresh = cv2.bitwise_not(thresh)\n",
    "    return cl1,thresh"
   ]
  },
  {
   "cell_type": "code",
   "execution_count": 41,
   "metadata": {
    "collapsed": false
   },
   "outputs": [
    {
     "data": {
      "image/png": "[encoded data removed]",
      "text/plain": [
       "<matplotlib.figure.Figure at 0xae1ccc0>"
      ]
     },
     "metadata": {},
     "output_type": "display_data"
    },
    {
     "name": "stdout",
     "output_type": "stream",
     "text": [
      "(8L, 8L)\n",
      "(898L, 64L)\n",
      "(898L,)\n"
     ]
    }
   ],
   "source": [
    "#Load the digits dataset\n",
    "digits = datasets.load_digits()\n",
    "\n",
    "#Display the first digit\n",
    "plt.figure(1, figsize=(3, 3))\n",
    "plt.imshow(digits.images[-1], cmap=plt.cm.gray_r, interpolation='nearest')\n",
    "plt.show()\n",
    "print digits.images[-1].shape\n",
    "n_samples = len(digits.images)\n",
    "data = digits.images.reshape((n_samples, -1))\n",
    "print data[:n_samples / 2].shape\n",
    "print digits.target[:n_samples / 2].shape"
   ]
  },
  {
   "cell_type": "code",
   "execution_count": 5,
   "metadata": {
    "collapsed": false
   },
   "outputs": [
    {
     "name": "stdout",
     "output_type": "stream",
     "text": [
      "['sample001', 'sample002', 'sample003', 'sample004', 'sample005', 'sample006', 'sample007', 'sample008', 'sample009', 'sample010', 'sample011', 'sample012', 'sample013', 'sample014', 'sample015', 'sample016', 'sample017', 'sample018', 'sample019', 'sample020', 'sample021', 'sample022', 'sample023', 'sample024', 'sample025', 'sample026', 'sample027', 'sample028', 'sample029', 'sample030', 'sample031', 'sample032', 'sample033', 'sample034', 'sample035', 'sample036', 'sample037', 'sample038', 'sample039', 'sample040', 'sample041', 'sample042', 'sample043', 'sample044', 'sample045', 'sample046', 'sample047', 'sample048', 'sample049', 'sample050', 'sample051', 'sample052', 'sample053', 'sample054', 'sample055', 'sample056', 'sample057', 'sample058', 'sample059', 'sample060', 'sample061', 'sample062']\n"
     ]
    }
   ],
   "source": [
    "#SEARCH FOLDERS FOR DATA AND PREPARE FOR OUTPUT DATA\n",
    "#path = tkFileDialog.askdirectory(initialdir='.')\n",
    "pathNoText = './Database_text_nonText/nonText'\n",
    "pathText = './Database_text_nonText/text'\n",
    "onlydirs = [f for f in listdir(pathText) if isdir(join(pathText, f))]\n",
    "print onlydirs\n",
    "numbers = range(0,10)\n",
    "upperLetters = list(string.ascii_uppercase)\n",
    "lowerLetters = list(string.ascii_lowercase)\n",
    "theList = numbers+upperLetters+lowerLetters\n",
    "lengthsOfOutputs={}"
   ]
  },
  {
   "cell_type": "code",
   "execution_count": 6,
   "metadata": {
    "collapsed": false,
    "scrolled": false
   },
   "outputs": [
    {
     "name": "stdout",
     "output_type": "stream",
     "text": [
      "0\n",
      "1000\n",
      "2000\n",
      "3000\n",
      "4000\n",
      "5000\n",
      "6000\n",
      "7000\n",
      "8000\n",
      "9000\n",
      "10000\n",
      "11000\n",
      "12000\n",
      "13000\n",
      "14000\n",
      "15000\n",
      "16000\n",
      "17000\n",
      "18000\n",
      "19000\n",
      "20000\n",
      "21000\n",
      "22000\n",
      "23000\n",
      "24000\n",
      "25000\n",
      "26000\n",
      "27000\n",
      "28000\n",
      "29000\n",
      "30000\n",
      "31000\n",
      "32000\n",
      "33000\n",
      "34000\n",
      "35000\n",
      "36000\n",
      "37000\n",
      "38000\n",
      "39000\n",
      "40000\n",
      "41000\n",
      "42000\n",
      "43000\n",
      "44000\n",
      "45000\n",
      "46000\n",
      "47000\n",
      "48000\n",
      "49000\n",
      "50000\n",
      "51000\n",
      "52000\n",
      "53000\n",
      "54000\n",
      "55000\n",
      "56000\n",
      "57000\n",
      "58000\n",
      "59000\n",
      "60000\n",
      "61000\n",
      "62000\n",
      "63000\n",
      "64000\n",
      "65000\n",
      "66000\n",
      "67000\n",
      "68000\n",
      "69000\n",
      "70000\n",
      "71000\n",
      "72000\n",
      "73000\n",
      "74000\n",
      "75000\n",
      "2400032\n"
     ]
    }
   ],
   "source": [
    "#IMPORT NONTEXT PICTURES\n",
    "theDatasetNoText = np.array([])\n",
    "allInDir=listdir(pathNoText)\n",
    "#print np.array(path+'/'+subdir+'/'+allInDir)\n",
    "#print np.array(allInDir)\n",
    "lengthsOfOutputs['NoText']=len(allInDir)\n",
    "for it,elem in enumerate(allInDir):\n",
    "    if(it%1000==0):\n",
    "        print it\n",
    "    localCharPath = pathNoText+'/'+elem\n",
    "    im = Image.open(localCharPath)\n",
    "    im = np.asarray(im)\n",
    "    #b = np.hstack((im,np.array(character)))\n",
    "    if len(im.shape)>2:\n",
    "            _,im = binarize(im)\n",
    "    im = cv2.resize(im, (32, 32))\n",
    "    if len(theDatasetNoText)!=0:\n",
    "        theDatasetNoText = np.vstack((theDatasetNoText,im))\n",
    "    else:\n",
    "        theDatasetNoText = im\n",
    "print len(theDatasetNoText)"
   ]
  },
  {
   "cell_type": "code",
   "execution_count": 7,
   "metadata": {
    "collapsed": false
   },
   "outputs": [
    {
     "name": "stdout",
     "output_type": "stream",
     "text": [
      "1\n",
      "[255 255 255 255 255 255 255 255 255 255 255 255 255 255 255 255 255 255\n",
      " 255 255 255 255 255 255 255 255 255 255 255 255 255 255]\n"
     ]
    }
   ],
   "source": [
    "print len(theDatasetNoText[0].shape)\n",
    "print theDatasetNoText[0]\n",
    "#plt.imshow(theDatasetNoText[0],'gray')\n",
    "#plt.show()"
   ]
  },
  {
   "cell_type": "markdown",
   "metadata": {},
   "source": [
    "print len(allInDir)\n",
    "lengthsOfOutputs['NoText']=len(allInDir)\n",
    "Filename = './DatotekaNoText'\n",
    "File = open(Filename,'w')\n",
    "File.write(theDatasetNoText)\n",
    "File.close()"
   ]
  },
  {
   "cell_type": "code",
   "execution_count": 8,
   "metadata": {
    "collapsed": false,
    "scrolled": true
   },
   "outputs": [
    {
     "name": "stdout",
     "output_type": "stream",
     "text": [
      "./Database_text_nonText/text/sample001\n",
      "0\n",
      "200\n",
      "400\n",
      "600\n",
      "800\n",
      "1000\n",
      "./Database_text_nonText/text/sample002\n",
      "0\n",
      "200\n",
      "400\n",
      "600\n",
      "800\n",
      "1000\n",
      "./Database_text_nonText/text/sample003\n",
      "0\n",
      "200\n",
      "400\n",
      "600\n",
      "800\n",
      "1000\n",
      "./Database_text_nonText/text/sample004\n",
      "0\n",
      "200\n",
      "400\n",
      "600\n",
      "800\n",
      "1000\n",
      "./Database_text_nonText/text/sample005\n",
      "0\n",
      "200\n",
      "400\n",
      "600\n",
      "800\n",
      "1000\n",
      "./Database_text_nonText/text/sample006\n",
      "0\n",
      "200\n",
      "400\n",
      "600\n",
      "800\n",
      "1000\n",
      "./Database_text_nonText/text/sample007\n",
      "0\n",
      "200\n",
      "400\n",
      "600\n",
      "800\n",
      "1000\n",
      "./Database_text_nonText/text/sample008\n",
      "0\n",
      "200\n",
      "400\n",
      "600\n",
      "800\n",
      "1000\n",
      "./Database_text_nonText/text/sample009\n",
      "0\n",
      "200\n",
      "400\n",
      "600\n",
      "800\n",
      "1000\n",
      "./Database_text_nonText/text/sample010\n",
      "0\n",
      "200\n",
      "400\n",
      "600\n",
      "800\n",
      "1000\n",
      "./Database_text_nonText/text/sample011\n",
      "0\n",
      "200\n",
      "400\n",
      "600\n",
      "800\n",
      "1000\n",
      "1200\n",
      "1400\n",
      "1600\n",
      "./Database_text_nonText/text/sample012\n",
      "0\n",
      "200\n",
      "400\n",
      "600\n",
      "800\n",
      "1000\n",
      "./Database_text_nonText/text/sample013\n",
      "0\n",
      "200\n",
      "400\n",
      "600\n",
      "800\n",
      "1000\n",
      "1200\n",
      "./Database_text_nonText/text/sample014\n",
      "0\n",
      "200\n",
      "400\n",
      "600\n",
      "800\n",
      "1000\n",
      "1200\n",
      "./Database_text_nonText/text/sample015\n",
      "0\n",
      "200\n",
      "400\n",
      "600\n",
      "800\n",
      "1000\n",
      "1200\n",
      "1400\n",
      "./Database_text_nonText/text/sample016\n",
      "0\n",
      "200\n",
      "400\n",
      "600\n",
      "800\n",
      "1000\n",
      "./Database_text_nonText/text/sample017\n",
      "0\n",
      "200\n",
      "400\n",
      "600\n",
      "800\n",
      "1000\n",
      "1200\n",
      "./Database_text_nonText/text/sample018\n",
      "0\n",
      "200\n",
      "400\n",
      "600\n",
      "800\n",
      "1000\n",
      "1200\n",
      "./Database_text_nonText/text/sample019\n",
      "0\n",
      "200\n",
      "400\n",
      "600\n",
      "800\n",
      "1000\n",
      "1200\n",
      "./Database_text_nonText/text/sample020\n",
      "0\n",
      "200\n",
      "400\n",
      "600\n",
      "800\n",
      "1000\n",
      "./Database_text_nonText/text/sample021\n",
      "0\n",
      "200\n",
      "400\n",
      "600\n",
      "800\n",
      "1000\n",
      "./Database_text_nonText/text/sample022\n",
      "0\n",
      "200\n",
      "400\n",
      "600\n",
      "800\n",
      "1000\n",
      "1200\n",
      "./Database_text_nonText/text/sample023\n",
      "0\n",
      "200\n",
      "400\n",
      "600\n",
      "800\n",
      "1000\n",
      "1200\n",
      "./Database_text_nonText/text/sample024\n",
      "0\n",
      "200\n",
      "400\n",
      "600\n",
      "800\n",
      "1000\n",
      "1200\n",
      "1400\n",
      "./Database_text_nonText/text/sample025\n",
      "0\n",
      "200\n",
      "400\n",
      "600\n",
      "800\n",
      "1000\n",
      "1200\n",
      "1400\n",
      "./Database_text_nonText/text/sample026\n",
      "0\n",
      "200\n",
      "400\n",
      "600\n",
      "800\n",
      "1000\n",
      "1200\n",
      "./Database_text_nonText/text/sample027\n",
      "0\n",
      "200\n",
      "400\n",
      "600\n",
      "800\n",
      "1000\n",
      "./Database_text_nonText/text/sample028\n",
      "0\n",
      "200\n",
      "400\n",
      "600\n",
      "800\n",
      "1000\n",
      "1200\n",
      "1400\n",
      "./Database_text_nonText/text/sample029\n",
      "0\n",
      "200\n",
      "400\n",
      "600\n",
      "800\n",
      "1000\n",
      "1200\n",
      "1400\n",
      "./Database_text_nonText/text/sample030\n",
      "0\n",
      "200\n",
      "400\n",
      "600\n",
      "800\n",
      "1000\n",
      "1200\n",
      "./Database_text_nonText/text/sample031\n",
      "0\n",
      "200\n",
      "400\n",
      "600\n",
      "800\n",
      "1000\n",
      "./Database_text_nonText/text/sample032\n",
      "0\n",
      "200\n",
      "400\n",
      "600\n",
      "800\n",
      "1000\n",
      "./Database_text_nonText/text/sample033\n",
      "0\n",
      "200\n",
      "400\n",
      "600\n",
      "800\n",
      "1000\n",
      "./Database_text_nonText/text/sample034\n",
      "0\n",
      "200\n",
      "400\n",
      "600\n",
      "800\n",
      "1000\n",
      "./Database_text_nonText/text/sample035\n",
      "0\n",
      "200\n",
      "400\n",
      "600\n",
      "800\n",
      "1000\n",
      "./Database_text_nonText/text/sample036\n",
      "0\n",
      "200\n",
      "400\n",
      "600\n",
      "800\n",
      "1000\n",
      "./Database_text_nonText/text/sample037\n",
      "0\n",
      "200\n",
      "400\n",
      "600\n",
      "800\n",
      "1000\n",
      "1200\n",
      "./Database_text_nonText/text/sample038\n",
      "0\n",
      "200\n",
      "400\n",
      "600\n",
      "800\n",
      "1000\n",
      "./Database_text_nonText/text/sample039\n",
      "0\n",
      "200\n",
      "400\n",
      "600\n",
      "800\n",
      "1000\n",
      "./Database_text_nonText/text/sample040\n",
      "0\n",
      "200\n",
      "400\n",
      "600\n",
      "800\n",
      "1000\n",
      "./Database_text_nonText/text/sample041\n",
      "0\n",
      "200\n",
      "400\n",
      "600\n",
      "800\n",
      "1000\n",
      "1200\n",
      "./Database_text_nonText/text/sample042\n",
      "0\n",
      "200\n",
      "400\n",
      "600\n",
      "800\n",
      "1000\n",
      "./Database_text_nonText/text/sample043\n",
      "0\n",
      "200\n",
      "400\n",
      "600\n",
      "800\n",
      "1000\n",
      "./Database_text_nonText/text/sample044\n",
      "0\n",
      "200\n",
      "400\n",
      "600\n",
      "800\n",
      "1000\n",
      "./Database_text_nonText/text/sample045\n",
      "0\n",
      "200\n",
      "400\n",
      "600\n",
      "800\n",
      "1000\n",
      "./Database_text_nonText/text/sample046\n",
      "0\n",
      "200\n",
      "400\n",
      "600\n",
      "800\n",
      "1000\n",
      "./Database_text_nonText/text/sample047\n",
      "0\n",
      "200\n",
      "400\n",
      "600\n",
      "800\n",
      "1000\n",
      "./Database_text_nonText/text/sample048\n",
      "0\n",
      "200\n",
      "400\n",
      "600\n",
      "800\n",
      "1000\n",
      "./Database_text_nonText/text/sample049\n",
      "0\n",
      "200\n",
      "400\n",
      "600\n",
      "800\n",
      "1000\n",
      "./Database_text_nonText/text/sample050\n",
      "0\n",
      "200\n",
      "400\n",
      "600\n",
      "800\n",
      "1000\n",
      "1200\n",
      "./Database_text_nonText/text/sample051\n",
      "0\n",
      "200\n",
      "400\n",
      "600\n",
      "800\n",
      "1000\n",
      "1200\n",
      "./Database_text_nonText/text/sample052\n",
      "0\n",
      "200\n",
      "400\n",
      "600\n",
      "800\n",
      "1000\n",
      "./Database_text_nonText/text/sample053\n",
      "0\n",
      "200\n",
      "400\n",
      "600\n",
      "800\n",
      "1000\n",
      "./Database_text_nonText/text/sample054\n",
      "0\n",
      "200\n",
      "400\n",
      "600\n",
      "800\n",
      "1000\n",
      "./Database_text_nonText/text/sample055\n",
      "0\n",
      "200\n",
      "400\n",
      "600\n",
      "800\n",
      "1000\n",
      "./Database_text_nonText/text/sample056\n",
      "0\n",
      "200\n",
      "400\n",
      "600\n",
      "800\n",
      "1000\n",
      "./Database_text_nonText/text/sample057\n",
      "0\n",
      "200\n",
      "400\n",
      "600\n",
      "800\n",
      "1000\n",
      "./Database_text_nonText/text/sample058\n",
      "0\n",
      "200\n",
      "400\n",
      "600\n",
      "800\n",
      "1000\n",
      "./Database_text_nonText/text/sample059\n",
      "0\n",
      "200\n",
      "400\n",
      "600\n",
      "800\n",
      "1000\n",
      "./Database_text_nonText/text/sample060\n",
      "0\n",
      "200\n",
      "400\n",
      "600\n",
      "800\n",
      "1000\n",
      "./Database_text_nonText/text/sample061\n",
      "0\n",
      "200\n",
      "400\n",
      "600\n",
      "800\n",
      "1000\n",
      "./Database_text_nonText/text/sample062\n",
      "0\n",
      "200\n",
      "400\n",
      "600\n",
      "800\n",
      "1000\n",
      "2371424\n",
      "(32L,)\n"
     ]
    }
   ],
   "source": [
    "#IMPORT PICTURES AND GET DATA AS NP ARRAY\n",
    "theDatasetText = np.array([])\n",
    "for subdir,character in zip(onlydirs,theList):\n",
    "    print pathText+'/'+subdir\n",
    "    allInDir=listdir(pathText+'/'+subdir)\n",
    "    #print np.array(pathText+'/'+subdir+'/'+allInDir)\n",
    "    #print np.array(allInDir)\n",
    "    lengthsOfOutputs['Text']=len(allInDir)\n",
    "    for it,elem in enumerate(allInDir):\n",
    "        if(it%200==0):\n",
    "            print it\n",
    "        localCharPath = pathText+'/'+subdir+'/'+elem\n",
    "        im = Image.open(localCharPath)\n",
    "        im = np.asarray(im)\n",
    "        #b = np.hstack((im,np.array(character)))\n",
    "        if len(im.shape)>2:\n",
    "                _,im = binarize(im)\n",
    "        #print im.shape\n",
    "        prop = cv2.resize(im, (32, 32))\n",
    "        #print prop.shape\n",
    "        if len(theDatasetText)!=0:\n",
    "            theDatasetText = np.vstack((theDatasetText,prop))\n",
    "        else:\n",
    "            theDatasetText = prop\n",
    "print len(theDatasetText)\n",
    "print theDatasetText[0].shape"
   ]
  },
  {
   "cell_type": "code",
   "execution_count": 9,
   "metadata": {
    "collapsed": false
   },
   "outputs": [
    {
     "name": "stdout",
     "output_type": "stream",
     "text": [
      "4771456\n"
     ]
    }
   ],
   "source": [
    "theDataset = np.vstack((theDatasetNoText,theDatasetText))\n",
    "print len(theDataset)"
   ]
  },
  {
   "cell_type": "markdown",
   "metadata": {},
   "source": [
    "Filename = './DatotekaText'\n",
    "File = open(Filename,'w')\n",
    "File.write(theDatasetText)\n",
    "File.close()"
   ]
  },
  {
   "cell_type": "markdown",
   "metadata": {
    "collapsed": false
   },
   "source": [
    "#OPEN DATASET\n",
    "Filename = './DatotekaNoText'\n",
    "File = open(Filename,'rb')\n",
    "theDataset2 = File.read()\n",
    "File.close()\n"
   ]
  },
  {
   "cell_type": "code",
   "execution_count": 10,
   "metadata": {
    "collapsed": false
   },
   "outputs": [
    {
     "name": "stdout",
     "output_type": "stream",
     "text": [
      "4771456\n"
     ]
    }
   ],
   "source": [
    "#theDataset2 = theDataset\n",
    "print len(theDataset)"
   ]
  },
  {
   "cell_type": "code",
   "execution_count": 11,
   "metadata": {
    "collapsed": false
   },
   "outputs": [
    {
     "data": {
      "text/plain": [
       "\"\\nFilename = 'C:\\\\Users\\\\Franjo\\\\Documents\\\\FER\\\\Diplomski\\\\Digitalna obrada i analiza slike\\\\Projekt\\\\Dataset'\\nFile = open(Filename,'wb')\\nFile.write(theDataset)\\nFile.close\\n\""
      ]
     },
     "execution_count": 11,
     "metadata": {},
     "output_type": "execute_result"
    }
   ],
   "source": [
    "#SAVE DATA TO FILE\n",
    "\"\"\"\n",
    "Filename = 'C:\\Users\\Franjo\\Documents\\FER\\Diplomski\\Digitalna obrada i analiza slike\\Projekt\\Dataset'\n",
    "File = open(Filename,'wb')\n",
    "File.write(theDataset)\n",
    "File.close\n",
    "\"\"\""
   ]
  },
  {
   "cell_type": "code",
   "execution_count": 12,
   "metadata": {
    "collapsed": false
   },
   "outputs": [
    {
     "name": "stdout",
     "output_type": "stream",
     "text": [
      "149108\n"
     ]
    }
   ],
   "source": [
    "#PREPARE OUTPUT DATA\n",
    "y = []\n",
    "\"\"\"\n",
    "for elem in theList:\n",
    "    y = y + ([elem] * 1016)\n",
    "\"\"\"\n",
    "y = [0]* (len(theDatasetNoText)/32)\n",
    "y = y + [1]* (len(theDatasetText)/32)\n",
    "print len(y)"
   ]
  },
  {
   "cell_type": "code",
   "execution_count": 13,
   "metadata": {
    "collapsed": false
   },
   "outputs": [
    {
     "name": "stdout",
     "output_type": "stream",
     "text": [
      "(149108L, 1024L)\n"
     ]
    }
   ],
   "source": [
    "#PREPARE DATA FOR CLASSIFIER\n",
    "n=32\n",
    "newDataset = np.array([theDataset[i:i + n] for i in xrange(0, len(theDataset), n)])\n",
    "doableData = newDataset.reshape((len(y), -1))\n",
    "print doableData.shape"
   ]
  },
  {
   "cell_type": "code",
   "execution_count": 14,
   "metadata": {
    "collapsed": false
   },
   "outputs": [],
   "source": [
    "#SPLIT DATA TO TRAIN AND TEST\n",
    "X_train, X_test, y_train, y_test = train_test_split(doableData, y, test_size=.4)"
   ]
  },
  {
   "cell_type": "code",
   "execution_count": 42,
   "metadata": {
    "collapsed": false
   },
   "outputs": [],
   "source": [
    "#GET CLASSIFIER\n",
    "RFC=RandomForestClassifier(n_estimators=200)"
   ]
  },
  {
   "cell_type": "code",
   "execution_count": 43,
   "metadata": {
    "collapsed": false
   },
   "outputs": [
    {
     "data": {
      "text/plain": [
       "RandomForestClassifier(bootstrap=True, class_weight=None, criterion='gini',\n",
       "            max_depth=None, max_features='auto', max_leaf_nodes=None,\n",
       "            min_impurity_split=1e-07, min_samples_leaf=1,\n",
       "            min_samples_split=2, min_weight_fraction_leaf=0.0,\n",
       "            n_estimators=200, n_jobs=1, oob_score=False, random_state=None,\n",
       "            verbose=0, warm_start=False)"
      ]
     },
     "execution_count": 43,
     "metadata": {},
     "output_type": "execute_result"
    }
   ],
   "source": [
    "#TRAIN CLASSIFIER\n",
    "RFC.fit(doableData,y)\n",
    "#print len(X_train)"
   ]
  },
  {
   "cell_type": "code",
   "execution_count": 44,
   "metadata": {
    "collapsed": false
   },
   "outputs": [
    {
     "name": "stdout",
     "output_type": "stream",
     "text": [
      "1.0\n"
     ]
    }
   ],
   "source": [
    "y_predict = RFC.predict(X_test)\n",
    "print accuracy_score(y_predict,y_test)"
   ]
  },
  {
   "cell_type": "code",
   "execution_count": 45,
   "metadata": {
    "collapsed": false
   },
   "outputs": [
    {
     "name": "stdout",
     "output_type": "stream",
     "text": [
      "1.0\n"
     ]
    }
   ],
   "source": [
    "print f1_score(y_predict,y_test)"
   ]
  },
  {
   "cell_type": "code",
   "execution_count": 48,
   "metadata": {
    "collapsed": true
   },
   "outputs": [],
   "source": [
    "SVM=SVC()"
   ]
  },
  {
   "cell_type": "code",
   "execution_count": 49,
   "metadata": {
    "collapsed": false
   },
   "outputs": [
    {
     "data": {
      "text/plain": [
       "SVC(C=1.0, cache_size=200, class_weight=None, coef0=0.0,\n",
       "  decision_function_shape=None, degree=3, gamma='auto', kernel='rbf',\n",
       "  max_iter=-1, probability=False, random_state=None, shrinking=True,\n",
       "  tol=0.001, verbose=False)"
      ]
     },
     "execution_count": 49,
     "metadata": {},
     "output_type": "execute_result"
    }
   ],
   "source": [
    "SVM.fit(X_train,y_train)"
   ]
  },
  {
   "cell_type": "code",
   "execution_count": 53,
   "metadata": {
    "collapsed": false
   },
   "outputs": [
    {
     "name": "stdout",
     "output_type": "stream",
     "text": [
      "0.603815974784\n",
      "0.338539917143\n"
     ]
    }
   ],
   "source": [
    "y_predict2 = SVM.predict(X_test)\n",
    "print accuracy_score(y_predict2,y_test)\n",
    "print f1_score(y_predict2,y_test)"
   ]
  },
  {
   "cell_type": "code",
   "execution_count": 51,
   "metadata": {
    "collapsed": false
   },
   "outputs": [
    {
     "ename": "NameError",
     "evalue": "name 'datetime' is not defined",
     "output_type": "error",
     "traceback": [
      "\u001b[0;31m---------------------------------------------------------------------------\u001b[0m",
      "\u001b[0;31mNameError\u001b[0m                                 Traceback (most recent call last)",
      "\u001b[0;32m<ipython-input-51-44b2ffce0a2b>\u001b[0m in \u001b[0;36m<module>\u001b[0;34m()\u001b[0m\n\u001b[0;32m----> 1\u001b[0;31m \u001b[1;32mprint\u001b[0m \u001b[0mstr\u001b[0m\u001b[1;33m(\u001b[0m\u001b[0mdatetime\u001b[0m\u001b[1;33m.\u001b[0m\u001b[0mnow\u001b[0m\u001b[1;33m(\u001b[0m\u001b[1;33m)\u001b[0m\u001b[1;33m)\u001b[0m\u001b[1;33m\u001b[0m\u001b[0m\n\u001b[0m",
      "\u001b[0;31mNameError\u001b[0m: name 'datetime' is not defined"
     ]
    }
   ],
   "source": [
    "print str(datetime.now())"
   ]
  },
  {
   "cell_type": "markdown",
   "metadata": {},
   "source": [
    "ZA UCITAVANJE I SPREMANJE NAUCENIH MODELA\n",
    "http://scikit-learn.org/stable/modules/model_persistence.html"
   ]
  },
  {
   "cell_type": "code",
   "execution_count": 52,
   "metadata": {
    "collapsed": false
   },
   "outputs": [
    {
     "data": {
      "text/plain": [
       "['SVM.pkl']"
      ]
     },
     "execution_count": 52,
     "metadata": {},
     "output_type": "execute_result"
    }
   ],
   "source": [
    "from sklearn.externals import joblib\n",
    "joblib.dump(SVC, 'SVM.pkl')\n",
    "#joblib.dump(RFC, './RFC_Full.pkl')"
   ]
  },
  {
   "cell_type": "code",
   "execution_count": 31,
   "metadata": {
    "collapsed": false
   },
   "outputs": [
    {
     "data": {
      "text/plain": [
       "PCA(copy=True, iterated_power='auto', n_components=636, random_state=None,\n",
       "  svd_solver='auto', tol=0.0, whiten=False)"
      ]
     },
     "execution_count": 31,
     "metadata": {},
     "output_type": "execute_result"
    }
   ],
   "source": [
    "pca = PCA(n_components=636)\n",
    "pca.fit(X_train)"
   ]
  },
  {
   "cell_type": "code",
   "execution_count": 30,
   "metadata": {
    "collapsed": false
   },
   "outputs": [
    {
     "name": "stdout",
     "output_type": "stream",
     "text": [
      "636\n"
     ]
    }
   ],
   "source": [
    "print(len(pca.explained_variance_ratio_)) "
   ]
  },
  {
   "cell_type": "code",
   "execution_count": null,
   "metadata": {
    "collapsed": true
   },
   "outputs": [],
   "source": []
  }
 ],
 "metadata": {
  "kernelspec": {
   "display_name": "Python [default]",
   "language": "python",
   "name": "python2"
  },
  "language_info": {
   "codemirror_mode": {
    "name": "ipython",
    "version": 2
   },
   "file_extension": ".py",
   "mimetype": "text/x-python",
   "name": "python",
   "nbconvert_exporter": "python",
   "pygments_lexer": "ipython2",
   "version": "2.7.13"
  }
 },
 "nbformat": 4,
 "nbformat_minor": 2
}
